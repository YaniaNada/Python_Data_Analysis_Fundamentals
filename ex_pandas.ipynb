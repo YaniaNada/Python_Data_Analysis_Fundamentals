{
 "cells": [
  {
   "cell_type": "markdown",
   "metadata": {},
   "source": [
    "## Session 1 - Pandas"
   ]
  },
  {
   "cell_type": "markdown",
   "metadata": {},
   "source": [
    "__________________________________________________________________________"
   ]
  },
  {
   "cell_type": "markdown",
   "metadata": {},
   "source": [
    "Ex. 1 : Load the dataset into a Pandas DataFrame and display the first 5 rows.\n",
    "\n",
    "See how to use **read_csv** and **head** methods with pandas."
   ]
  },
  {
   "cell_type": "code",
   "execution_count": 2,
   "metadata": {},
   "outputs": [
    {
     "name": "stdout",
     "output_type": "stream",
     "text": [
      "   Row ID        Order ID  Order Date   Ship Date       Ship Mode Customer ID  \\\n",
      "0       1  CA-2016-152156   11/8/2016  11/11/2016    Second Class    CG-12520   \n",
      "1       2  CA-2016-152156   11/8/2016  11/11/2016    Second Class    CG-12520   \n",
      "2       3  CA-2016-138688   6/12/2016   6/16/2016    Second Class    DV-13045   \n",
      "3       4  US-2015-108966  10/11/2015  10/18/2015  Standard Class    SO-20335   \n",
      "4       5  US-2015-108966  10/11/2015  10/18/2015  Standard Class    SO-20335   \n",
      "\n",
      "     Customer Name    Segment        Country             City  ...  \\\n",
      "0      Claire Gute   Consumer  United States        Henderson  ...   \n",
      "1      Claire Gute   Consumer  United States        Henderson  ...   \n",
      "2  Darrin Van Huff  Corporate  United States      Los Angeles  ...   \n",
      "3   Sean O'Donnell   Consumer  United States  Fort Lauderdale  ...   \n",
      "4   Sean O'Donnell   Consumer  United States  Fort Lauderdale  ...   \n",
      "\n",
      "  Postal Code  Region       Product ID         Category Sub-Category  \\\n",
      "0       42420   South  FUR-BO-10001798        Furniture    Bookcases   \n",
      "1       42420   South  FUR-CH-10000454        Furniture       Chairs   \n",
      "2       90036    West  OFF-LA-10000240  Office Supplies       Labels   \n",
      "3       33311   South  FUR-TA-10000577        Furniture       Tables   \n",
      "4       33311   South  OFF-ST-10000760  Office Supplies      Storage   \n",
      "\n",
      "                                        Product Name     Sales  Quantity  \\\n",
      "0                  Bush Somerset Collection Bookcase  261.9600         2   \n",
      "1  Hon Deluxe Fabric Upholstered Stacking Chairs,...  731.9400         3   \n",
      "2  Self-Adhesive Address Labels for Typewriters b...   14.6200         2   \n",
      "3      Bretford CR4500 Series Slim Rectangular Table  957.5775         5   \n",
      "4                     Eldon Fold 'N Roll Cart System   22.3680         2   \n",
      "\n",
      "   Discount    Profit  \n",
      "0      0.00   41.9136  \n",
      "1      0.00  219.5820  \n",
      "2      0.00    6.8714  \n",
      "3      0.45 -383.0310  \n",
      "4      0.20    2.5164  \n",
      "\n",
      "[5 rows x 21 columns]\n"
     ]
    }
   ],
   "source": [
    "import pandas as pd\n",
    "\n",
    "# Load the dataset into a DataFrame\n",
    "data = pd.read_csv(\"data.csv\")\n",
    "\n",
    "# Display the first 5 rows\n",
    "print(data.head(5))"
   ]
  },
  {
   "cell_type": "markdown",
   "metadata": {},
   "source": [
    "The output should look like :"
   ]
  },
  {
   "cell_type": "code",
   "execution_count": null,
   "metadata": {},
   "outputs": [],
   "source": [
    "#          Row ID        Order ID  Order Date   Ship Date       Ship Mode Customer ID  \\\n",
    "#       0       1  CA-2016-152156   11/8/2016  11/11/2016    Second Class    CG-12520\n",
    "#       1       2  CA-2016-152156   11/8/2016  11/11/2016    Second Class    CG-12520\n",
    "#       2       3  CA-2016-138688   6/12/2016   6/16/2016    Second Class    DV-13045\n",
    "#       3       4  US-2015-108966  10/11/2015  10/18/2015  Standard Class    SO-20335\n",
    "#       4       5  US-2015-108966  10/11/2015  10/18/2015  Standard Class    SO-20335\n",
    "#\n",
    "#            Customer Name    Segment        Country             City  ...  \\\n",
    "#       0      Claire Gute   Consumer  United States        Henderson  ...\n",
    "#       1      Claire Gute   Consumer  United States        Henderson  ...\n",
    "#       2  Darrin Van Huff  Corporate  United States      Los Angeles  ...\n",
    "#       3   Sean O'Donnell   Consumer  United States  Fort Lauderdale  ...\n",
    "#       4   Sean O'Donnell   Consumer  United States  Fort Lauderdale  ...\n",
    "#\n",
    "#         Postal Code  Region       Product ID         Category Sub-Category  \\\n",
    "#       0       42420   South  FUR-BO-10001798        Furniture    Bookcases\n",
    "#       1       42420   South  FUR-CH-10000454        Furniture       Chairs\n",
    "#       2       90036    West  OFF-LA-10000240  Office Supplies       Labels\n",
    "#       3       33311   South  FUR-TA-10000577        Furniture       Tables\n",
    "#       4       33311   South  OFF-ST-10000760  Office Supplies      Storage\n",
    "#\n",
    "#                                               Product Name     Sales  Quantity  \\\n",
    "#       0                  Bush Somerset Collection Bookcase  261.9600         2\n",
    "#       1  Hon Deluxe Fabric Upholstered Stacking Chairs,...  731.9400         3\n",
    "#       2  Self-Adhesive Address Labels for Typewriters b...   14.6200         2\n",
    "#       3      Bretford CR4500 Series Slim Rectangular Table  957.5775         5\n",
    "#       4                     Eldon Fold 'N Roll Cart System   22.3680         2\n",
    "\n",
    "#          Discount    Profit\n",
    "#       0      0.00   41.9136\n",
    "#       1      0.00  219.5820\n",
    "#       2      0.00    6.8714\n",
    "#       3      0.45 -383.0310\n",
    "#       4      0.20    2.5164\n",
    "#\n",
    "#       [5 rows x 21 columns]"
   ]
  },
  {
   "cell_type": "markdown",
   "metadata": {},
   "source": [
    "__________________________________________________________________________"
   ]
  },
  {
   "cell_type": "code",
   "execution_count": 4,
   "metadata": {},
   "outputs": [
    {
     "name": "stdout",
     "output_type": "stream",
     "text": [
      "<class 'pandas.core.frame.DataFrame'>\n",
      "RangeIndex: 999 entries, 0 to 998\n",
      "Data columns (total 21 columns):\n",
      " #   Column         Non-Null Count  Dtype  \n",
      "---  ------         --------------  -----  \n",
      " 0   Row ID         999 non-null    int64  \n",
      " 1   Order ID       999 non-null    object \n",
      " 2   Order Date     999 non-null    object \n",
      " 3   Ship Date      999 non-null    object \n",
      " 4   Ship Mode      999 non-null    object \n",
      " 5   Customer ID    999 non-null    object \n",
      " 6   Customer Name  999 non-null    object \n",
      " 7   Segment        999 non-null    object \n",
      " 8   Country        999 non-null    object \n",
      " 9   City           999 non-null    object \n",
      " 10  State          999 non-null    object \n",
      " 11  Postal Code    999 non-null    int64  \n",
      " 12  Region         999 non-null    object \n",
      " 13  Product ID     999 non-null    object \n",
      " 14  Category       999 non-null    object \n",
      " 15  Sub-Category   999 non-null    object \n",
      " 16  Product Name   999 non-null    object \n",
      " 17  Sales          999 non-null    float64\n",
      " 18  Quantity       999 non-null    int64  \n",
      " 19  Discount       999 non-null    float64\n",
      " 20  Profit         999 non-null    float64\n",
      "dtypes: float64(3), int64(3), object(15)\n",
      "memory usage: 164.0+ KB\n"
     ]
    }
   ],
   "source": [
    "data.info()"
   ]
  },
  {
   "cell_type": "markdown",
   "metadata": {},
   "source": [
    "Ex. 2 : Calculate the total sales and total profit for the dataset.\n",
    "\n",
    "You can still access the **data** variable you created in the exercise one, and should use it for this exercise.  \n",
    "See how to access **keys** in the **data** variable (just like dictionaries) and to use the **sum** methods with pandas."
   ]
  },
  {
   "cell_type": "code",
   "execution_count": 6,
   "metadata": {},
   "outputs": [
    {
     "name": "stdout",
     "output_type": "stream",
     "text": [
      "Total Sales: 241097.6579\n",
      "Total Profit: 18733.266300000003\n"
     ]
    }
   ],
   "source": [
    "# Calculate the total sales\n",
    "total_sales = data['Sales'].sum()\n",
    "\n",
    "# Calculate the total profit\n",
    "total_profit = data['Profit'].sum()\n",
    "\n",
    "# Print the results\n",
    "print(f\"Total Sales: {total_sales}\")\n",
    "print(f\"Total Profit: {total_profit}\")"
   ]
  },
  {
   "cell_type": "markdown",
   "metadata": {},
   "source": [
    "The expected output is :  \n",
    "  \n",
    "Total Sales : 241097.6579  \n",
    "Total Profit : 18733.266300000003"
   ]
  },
  {
   "cell_type": "markdown",
   "metadata": {},
   "source": [
    "__________________________________________________________________________"
   ]
  },
  {
   "cell_type": "markdown",
   "metadata": {},
   "source": [
    "Ex. 3 : Create a Series from a list of numbers and calculate the sum of the values.\n",
    "\n",
    "See how to use **Series** and **sum** methods with pandas."
   ]
  },
  {
   "cell_type": "code",
   "execution_count": 9,
   "metadata": {},
   "outputs": [
    {
     "name": "stdout",
     "output_type": "stream",
     "text": [
      "0       261.9600\n",
      "1       731.9400\n",
      "2        14.6200\n",
      "3       957.5775\n",
      "4        22.3680\n",
      "         ...    \n",
      "994    2715.9300\n",
      "995     617.9700\n",
      "996      10.6700\n",
      "997      36.6300\n",
      "998      24.1000\n",
      "Name: Sales, Length: 999, dtype: float64\n",
      "Sum: 241097.6579\n"
     ]
    }
   ],
   "source": [
    "\n",
    "\n",
    "# Create a Series from a list of numbers\n",
    "data_serie = pd.Series(data['Sales'])\n",
    "\n",
    "# Calculate the sum of the values\n",
    "sum_serie = data_serie.sum()\n",
    "\n",
    "# Print the result\n",
    "print(data_serie)\n",
    "print(f\"Sum: {sum_serie}\")"
   ]
  },
  {
   "cell_type": "markdown",
   "metadata": {},
   "source": [
    "The output is expected like so :  \n",
    "  \n",
    "Sum : 15"
   ]
  },
  {
   "cell_type": "markdown",
   "metadata": {},
   "source": [
    "__________________________________________________________________________"
   ]
  },
  {
   "cell_type": "markdown",
   "metadata": {},
   "source": [
    "Ex. 4 : Create a DataFrame from a dictionary of lists and select the \"Name\" and \"City\" columns.\n",
    "\n",
    "See how to use the **DataFrame** method with pandas."
   ]
  },
  {
   "cell_type": "code",
   "execution_count": 34,
   "metadata": {},
   "outputs": [
    {
     "name": "stdout",
     "output_type": "stream",
     "text": [
      "    Name      City\n",
      "0   John  New york\n",
      "1   Anna    London\n",
      "2  Peter     Paris\n",
      "3   Mary    Berlin\n"
     ]
    }
   ],
   "source": [
    "# Create a DataFrame from a dictionary of lists\n",
    "data_new = {'Name':['John', 'Anna', 'Peter', 'Mary'], 'City':['New york', 'London', 'Paris', 'Berlin']}\n",
    "df_data = pd.DataFrame(data_new)\n",
    "\n",
    "# Select the \"Name\" and \"City\" columns\n",
    "selected_data = df_data[['Name','City']]\n",
    "\n",
    "# Print the selected data\n",
    "print(selected_data)"
   ]
  },
  {
   "cell_type": "markdown",
   "metadata": {},
   "source": [
    "The output is expected like so :"
   ]
  },
  {
   "cell_type": "code",
   "execution_count": null,
   "metadata": {},
   "outputs": [],
   "source": [
    "#       Name      City\n",
    "#   0   John  New York\n",
    "#   1   Anna    London\n",
    "#   2  Peter     Paris\n",
    "#   3   Mary    Berlin"
   ]
  },
  {
   "cell_type": "markdown",
   "metadata": {},
   "source": [
    "__________________________________________________________________________"
   ]
  },
  {
   "cell_type": "markdown",
   "metadata": {},
   "source": [
    "Ex. 5 : Create a DataFrame from the \"data.csv\" file and sort the data by the \"Profit\" column in descending order.\n",
    "\n",
    "See how to use **read_csv** and **sort_values** methods with pandas."
   ]
  },
  {
   "cell_type": "code",
   "execution_count": 39,
   "metadata": {},
   "outputs": [
    {
     "name": "stdout",
     "output_type": "stream",
     "text": [
      "     Row ID        Order ID Order Date  Ship Date       Ship Mode Customer ID  \\\n",
      "509     510  CA-2015-145352  3/16/2015  3/22/2015  Standard Class    CM-12385   \n",
      "318     319  CA-2014-164973  11/4/2014  11/9/2014  Standard Class    NM-18445   \n",
      "353     354  CA-2016-129714   9/1/2016   9/3/2016     First Class    AB-10060   \n",
      "515     516  CA-2017-127432  1/22/2017  1/27/2017  Standard Class    AD-10180   \n",
      "994     995  CA-2014-117639  5/21/2014  5/25/2014  Standard Class    MW-18235   \n",
      "..      ...             ...        ...        ...             ...         ...   \n",
      "463     464  CA-2016-109869  4/22/2016  4/29/2016  Standard Class    TN-21040   \n",
      "215     216  CA-2015-146262   1/2/2015   1/9/2015  Standard Class    VW-21775   \n",
      "165     166  CA-2014-139892   9/8/2014  9/12/2014  Standard Class    BM-11140   \n",
      "27       28  US-2015-150630  9/17/2015  9/21/2015  Standard Class    TB-21520   \n",
      "683     684  US-2017-168116  11/4/2017  11/4/2017        Same Day    GT-14635   \n",
      "\n",
      "            Customer Name      Segment        Country            City  ...  \\\n",
      "509  Christopher Martinez     Consumer  United States         Atlanta  ...   \n",
      "318          Nathan Mautz  Home Office  United States   New York City  ...   \n",
      "353       Adam Bellavance  Home Office  United States   New York City  ...   \n",
      "515        Alan Dominguez  Home Office  United States     Great Falls  ...   \n",
      "994      Mitch Willingham    Corporate  United States  Virginia Beach  ...   \n",
      "..                    ...          ...            ...             ...  ...   \n",
      "463         Tanja Norvell  Home Office  United States         Phoenix  ...   \n",
      "215       Victoria Wilson    Corporate  United States          Medina  ...   \n",
      "165          Becky Martin     Consumer  United States     San Antonio  ...   \n",
      "27        Tracy Blumstein     Consumer  United States    Philadelphia  ...   \n",
      "683        Grant Thornton    Corporate  United States      Burlington  ...   \n",
      "\n",
      "    Postal Code   Region       Product ID         Category Sub-Category  \\\n",
      "509       30318    South  OFF-BI-10003527  Office Supplies      Binders   \n",
      "318       10024     East  TEC-MA-10002927       Technology     Machines   \n",
      "353       10009     East  OFF-BI-10004995  Office Supplies      Binders   \n",
      "515       59405     West  TEC-CO-10003236       Technology      Copiers   \n",
      "994       23464    South  OFF-BI-10003925  Office Supplies      Binders   \n",
      "..          ...      ...              ...              ...          ...   \n",
      "463       85023     West  FUR-TA-10001889        Furniture       Tables   \n",
      "215       44256     East  TEC-MA-10000864       Technology     Machines   \n",
      "165       78207  Central  TEC-MA-10000822       Technology     Machines   \n",
      "27        19140     East  FUR-BO-10004834        Furniture    Bookcases   \n",
      "683       27217    South  TEC-MA-10004125       Technology     Machines   \n",
      "\n",
      "                                          Product Name     Sales  Quantity  \\\n",
      "509  Fellowes PB500 Electric Punch Plastic Comb Bin...  6354.950         5   \n",
      "318  Canon imageCLASS MF7460 Monochrome Digital Las...  3991.980         2   \n",
      "353          GBC DocuBind P400 Electric Binding System  4355.168         4   \n",
      "515                      Canon Image Class D660 Copier  2999.950         5   \n",
      "994        Fellowes PB300 Plastic Comb Binding Machine  2715.930         7   \n",
      "..                                                 ...       ...       ...   \n",
      "463  Bush Advantage Collection Racetrack Conference...  1272.630         6   \n",
      "215                 Cisco 9971 IP Video Phone Charcoal  1188.000         9   \n",
      "165          Lexmark MX611dhe Monochrome Laser Printer  8159.952         8   \n",
      "27   Riverside Palais Royal Lawyers Bookcase, Royal...  3083.430         7   \n",
      "683          Cubify CubeX 3D Printer Triple Head Print  7999.980         4   \n",
      "\n",
      "     Discount     Profit  \n",
      "509       0.0  3177.4750  \n",
      "318       0.0  1995.9900  \n",
      "353       0.2  1415.4296  \n",
      "515       0.0  1379.9770  \n",
      "994       0.0  1276.4871  \n",
      "..        ...        ...  \n",
      "463       0.5  -814.4832  \n",
      "215       0.7  -950.4000  \n",
      "165       0.4 -1359.9920  \n",
      "27        0.5 -1665.0522  \n",
      "683       0.5 -3839.9904  \n",
      "\n",
      "[999 rows x 21 columns]\n"
     ]
    }
   ],
   "source": [
    "# Create a DataFrame from a CSV file\n",
    "data = pd.read_csv('data.csv')\n",
    "\n",
    "# Sort the data by the \"Profit\" column in descending order\n",
    "sorted_data = data.sort_values('Profit', ascending = False)\n",
    "\n",
    "# Print the sorted data\n",
    "print(sorted_data)"
   ]
  },
  {
   "cell_type": "markdown",
   "metadata": {},
   "source": [
    "The end of the output might look like :"
   ]
  },
  {
   "cell_type": "code",
   "execution_count": null,
   "metadata": {},
   "outputs": [],
   "source": [
    "#            Discount     Profit\n",
    "#       509       0.0  3177.4750\n",
    "#       318       0.0  1995.9900\n",
    "#       353       0.2  1415.4296\n",
    "#       515       0.0  1379.9770\n",
    "#       994       0.0  1276.4871\n",
    "#       ..        ...        ...\n",
    "#       463       0.5  -814.4832\n",
    "#       215       0.7  -950.4000\n",
    "#       165       0.4 -1359.9920\n",
    "#       27        0.5 -1665.0522\n",
    "#       683       0.5 -3839.9904"
   ]
  },
  {
   "cell_type": "markdown",
   "metadata": {},
   "source": [
    "__________________________________________________________________________"
   ]
  },
  {
   "cell_type": "markdown",
   "metadata": {},
   "source": [
    "Ex. 6 : Create a DataFrame from a dictionary of lists and calculate the correlation between the \"Age\" and \"Salary\" columns.\n",
    "\n",
    "See how to use **DataFrame** and **corr** methods with pandas."
   ]
  },
  {
   "cell_type": "code",
   "execution_count": 46,
   "metadata": {},
   "outputs": [
    {
     "name": "stdout",
     "output_type": "stream",
     "text": [
      "Correlation:              Age    Salary\n",
      "Age     1.000000  0.982527\n",
      "Salary  0.982527  1.000000\n"
     ]
    }
   ],
   "source": [
    "# Create a DataFrame from a dictionary of lists\n",
    "data = pd.DataFrame({'Name': ['John', 'Anna', 'Peter', 'Mary'],\n",
    "                     'Age': [28, 35, 42, 22],\n",
    "                     'Salary': [50000, 60000, 75000, 45000]})\n",
    "#df = data[['Age', 'Salary']]\n",
    "\n",
    "# Calculate the correlation between the \"Age\" and \"Salary\" columns\n",
    "correlation = data[['Age', 'Salary']].corr()\n",
    "\n",
    "# Print the result\n",
    "print(f\"Correlation: {correlation}\")\n"
   ]
  },
  {
   "cell_type": "markdown",
   "metadata": {},
   "source": [
    "The output should look like :\n",
    "  \n",
    "Correlation: 0.9825265058295152"
   ]
  }
 ],
 "metadata": {
  "kernelspec": {
   "display_name": "Python 3",
   "language": "python",
   "name": "python3"
  },
  "language_info": {
   "codemirror_mode": {
    "name": "ipython",
    "version": 3
   },
   "file_extension": ".py",
   "mimetype": "text/x-python",
   "name": "python",
   "nbconvert_exporter": "python",
   "pygments_lexer": "ipython3",
   "version": "3.11.9"
  }
 },
 "nbformat": 4,
 "nbformat_minor": 2
}
