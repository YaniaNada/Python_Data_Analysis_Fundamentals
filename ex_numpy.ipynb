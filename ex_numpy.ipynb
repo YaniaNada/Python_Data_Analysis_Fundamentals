{
 "cells": [
  {
   "cell_type": "markdown",
   "metadata": {},
   "source": [
    "## Session 2 - NumPy"
   ]
  },
  {
   "cell_type": "markdown",
   "metadata": {},
   "source": [
    "__________________________________________________________________________"
   ]
  },
  {
   "cell_type": "markdown",
   "metadata": {},
   "source": [
    "Ex. 1 : Create a NumPy array from a list of numbers and calculate the mean.\n",
    "\n",
    "See how to use **array** and **mean** methods with numpy."
   ]
  },
  {
   "cell_type": "code",
   "execution_count": 1,
   "metadata": {},
   "outputs": [],
   "source": [
    "import numpy as np"
   ]
  },
  {
   "cell_type": "code",
   "execution_count": 13,
   "metadata": {},
   "outputs": [
    {
     "name": "stdout",
     "output_type": "stream",
     "text": [
      "array data: [[0.85403394 0.70307913 0.97582594]\n",
      " [0.31250509 0.4510581  0.5744481 ]]\n",
      "\n",
      "Mean: 0.65\n"
     ]
    }
   ],
   "source": [
    "# Create a NumPy array from a list of numbers\n",
    "data = np.random.rand(2,3)\n",
    "\n",
    "# Calculate the mean\n",
    "mean = round(np.mean(data),2)\n",
    "\n",
    "# Print the result\n",
    "print(f\"array data: {data}\")\n",
    "print(f\"\\nMean: {mean}\")"
   ]
  },
  {
   "cell_type": "markdown",
   "metadata": {},
   "source": [
    "The output should look like :  \n",
    "  \n",
    "Mean : 3.0"
   ]
  },
  {
   "cell_type": "markdown",
   "metadata": {},
   "source": [
    "__________________________________________________________________________"
   ]
  },
  {
   "cell_type": "markdown",
   "metadata": {},
   "source": [
    "Ex. 2 : Create a NumPy array from a list of numbers and calculate the median.\n",
    "\n",
    "See how to use **array** and **median** methods with numpy."
   ]
  },
  {
   "cell_type": "code",
   "execution_count": 10,
   "metadata": {},
   "outputs": [
    {
     "name": "stdout",
     "output_type": "stream",
     "text": [
      "array data: [[0.0828986  0.8191154 ]\n",
      " [0.42348454 0.65793731]]\n",
      "\n",
      " Median: 0.54\n"
     ]
    }
   ],
   "source": [
    "# Create a NumPy array from a list of numbers\n",
    "data = np.random.rand(2,2)\n",
    "\n",
    "# Calculate the median\n",
    "median = round(np.median(data),2)\n",
    "\n",
    "# Print the result\n",
    "print(f\"array data: {data}\")\n",
    "print(f\"\\n Median: {median}\")"
   ]
  },
  {
   "cell_type": "markdown",
   "metadata": {},
   "source": [
    "The expected output is :  \n",
    "  \n",
    "Median : 3.0"
   ]
  },
  {
   "cell_type": "markdown",
   "metadata": {},
   "source": [
    "__________________________________________________________________________"
   ]
  },
  {
   "cell_type": "markdown",
   "metadata": {},
   "source": [
    "Ex. 3 : Create a NumPy array from a list of numbers and calculate the standard deviation.\n",
    "\n",
    "See how to use **array** and **std** methods with numpy."
   ]
  },
  {
   "cell_type": "code",
   "execution_count": 18,
   "metadata": {},
   "outputs": [
    {
     "name": "stdout",
     "output_type": "stream",
     "text": [
      "array data: [[2 4 3]\n",
      " [1 6 2]]\n",
      "\n",
      " Standard Deviation: 1.632993161855452\n"
     ]
    }
   ],
   "source": [
    "# Create a NumPy array from a list of numbers\n",
    "data = np.array([[2,4,3], [1,6,2]])\n",
    "\n",
    "# Calculate the standard deviation\n",
    "std_dev = np.std(data)\n",
    "\n",
    "# Print the result\n",
    "print(f\"array data: {data}\")\n",
    "print(f\"\\n Standard Deviation: {std_dev}\")"
   ]
  },
  {
   "cell_type": "markdown",
   "metadata": {},
   "source": [
    "The output is expected like so :  \n",
    "  \n",
    "Standard Deviation : 1.4142135623730951"
   ]
  },
  {
   "cell_type": "markdown",
   "metadata": {},
   "source": [
    "__________________________________________________________________________"
   ]
  },
  {
   "cell_type": "markdown",
   "metadata": {},
   "source": [
    "Ex. 4 : Create two NumPy arrays of the same shape and calculate the element-wise sum.\n",
    "\n",
    "See how to use **array** and **add** methods with numpy."
   ]
  },
  {
   "cell_type": "code",
   "execution_count": 25,
   "metadata": {},
   "outputs": [
    {
     "name": "stdout",
     "output_type": "stream",
     "text": [
      "array data1: [[3 5]\n",
      " [9 9]]\n",
      "\n",
      " array data2: [[4 1]\n",
      " [4 2]]\n",
      "\n",
      " Sum: [[ 7  6]\n",
      " [13 11]]\n"
     ]
    }
   ],
   "source": [
    "# Create two NumPy arrays of the same shape\n",
    "data1 = np.random.randint(10, size = (2,2))\n",
    "data2 = np.random.randint(5, size = (2,2))\n",
    "\n",
    "# Calculate the element-wise sum\n",
    "sum = data1+data2\n",
    "\n",
    "# Print the result\n",
    "print(f\"array data1: {data1}\")\n",
    "print(f\"\\n array data2: {data2}\")\n",
    "print(f\"\\n Sum: {sum}\")"
   ]
  },
  {
   "cell_type": "markdown",
   "metadata": {},
   "source": [
    "The output is expected like so :"
   ]
  },
  {
   "cell_type": "code",
   "execution_count": null,
   "metadata": {},
   "outputs": [],
   "source": [
    "#       Sum :\n",
    "#        [[ 8 10 12]\n",
    "#        [14 16 18]]"
   ]
  },
  {
   "cell_type": "markdown",
   "metadata": {},
   "source": [
    "__________________________________________________________________________"
   ]
  },
  {
   "cell_type": "markdown",
   "metadata": {},
   "source": [
    "Ex. 5 : Create two NumPy arrays of the same shape and calculate the element-wise difference.\n",
    "\n",
    "See how to use **array** and **subtract** methods with numpy."
   ]
  },
  {
   "cell_type": "code",
   "execution_count": 27,
   "metadata": {},
   "outputs": [
    {
     "name": "stdout",
     "output_type": "stream",
     "text": [
      "array data1: [[ 9 17 18]\n",
      " [12 17  9]]\n",
      "\n",
      " array data2: [[0 1 2]\n",
      " [0 2 2]]\n",
      "\n",
      " Difference: [[ 9 16 16]\n",
      " [12 15  7]]\n"
     ]
    }
   ],
   "source": [
    "# Create two NumPy arrays of the same shape\n",
    "data1 = np.random.randint(20,size=(2,3))\n",
    "data2 = np.random.randint(5, size =(2,3))\n",
    "\n",
    "# Calculate the element-wise difference\n",
    "diff = data1-data2\n",
    "\n",
    "# Print the result\n",
    "print(f\"array data1: {data1}\")\n",
    "print(f\"\\n array data2: {data2}\")\n",
    "print(f\"\\n Difference: {diff}\")"
   ]
  },
  {
   "cell_type": "markdown",
   "metadata": {},
   "source": [
    "The end of the output might look like :"
   ]
  },
  {
   "cell_type": "code",
   "execution_count": null,
   "metadata": {},
   "outputs": [],
   "source": [
    "#       Difference :\n",
    "#        [[-6 -6 -6]\n",
    "#        [-6 -6 -6]]"
   ]
  }
 ],
 "metadata": {
  "kernelspec": {
   "display_name": "Python 3",
   "language": "python",
   "name": "python3"
  },
  "language_info": {
   "codemirror_mode": {
    "name": "ipython",
    "version": 3
   },
   "file_extension": ".py",
   "mimetype": "text/x-python",
   "name": "python",
   "nbconvert_exporter": "python",
   "pygments_lexer": "ipython3",
   "version": "3.11.9"
  }
 },
 "nbformat": 4,
 "nbformat_minor": 2
}
